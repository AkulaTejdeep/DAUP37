{
  "nbformat": 4,
  "nbformat_minor": 0,
  "metadata": {
    "colab": {
      "provenance": [],
      "gpuType": "T4",
      "mount_file_id": "1unFJCZx_4D6QJDsT4teLTdzAUv3v-R87",
      "authorship_tag": "ABX9TyNhxBtUPkBIopmq4bBKoXEl",
      "include_colab_link": true
    },
    "kernelspec": {
      "name": "python3",
      "display_name": "Python 3"
    },
    "language_info": {
      "name": "python"
    },
    "accelerator": "GPU"
  },
  "cells": [
    {
      "cell_type": "markdown",
      "metadata": {
        "id": "view-in-github",
        "colab_type": "text"
      },
      "source": [
        "<a href=\"https://colab.research.google.com/github/AkulaTejdeep/DAUP37/blob/main/PE1_1_T_P_Test.ipynb\" target=\"_parent\"><img src=\"https://colab.research.google.com/assets/colab-badge.svg\" alt=\"Open In Colab\"/></a>"
      ]
    },
    {
      "cell_type": "code",
      "execution_count": 9,
      "metadata": {
        "colab": {
          "base_uri": "https://localhost:8080/"
        },
        "id": "qB6Yffeen8u8",
        "outputId": "10e03a80-ac75-4d94-f329-b18f43be6a09"
      },
      "outputs": [
        {
          "output_type": "execute_result",
          "data": {
            "text/plain": [
              "{'Logistic Regression': {'Accuracy': 0.48026315789473684,\n",
              "  'Precision': 0.43283582089552236,\n",
              "  'Recall': 0.4142857142857143,\n",
              "  'F1-score': 0.4233576642335766},\n",
              " 'Random Forest': {'Accuracy': 0.5197368421052632,\n",
              "  'Precision': 0.4716981132075472,\n",
              "  'Recall': 0.35714285714285715,\n",
              "  'F1-score': 0.4065040650406504},\n",
              " 'SVM': {'Accuracy': 0.5263157894736842,\n",
              "  'Precision': 0.48214285714285715,\n",
              "  'Recall': 0.38571428571428573,\n",
              "  'F1-score': 0.42857142857142855},\n",
              " 'Top 3 Features': {'Study Hours Per Week': 0.12611619914486588,\n",
              "  'Physical Exercise (Hours per week)': 0.08200985231079133,\n",
              "  'Age': 0.0770955199977506},\n",
              " 'T-test': {'T-statistic': np.float64(-137.74977313955912),\n",
              "  'P-value': np.float64(0.0)},\n",
              " 'Z-test': {'Z-statistic': np.float64(1.1762342138083057),\n",
              "  'P-value': np.float64(0.2395012959973013)}}"
            ]
          },
          "metadata": {},
          "execution_count": 9
        }
      ],
      "source": [
        "import pandas as pd\n",
        "from sklearn.model_selection import train_test_split\n",
        "from sklearn.preprocessing import LabelEncoder, StandardScaler\n",
        "from sklearn.linear_model import LogisticRegression\n",
        "from sklearn.ensemble import RandomForestClassifier\n",
        "from sklearn.svm import SVC\n",
        "from sklearn.metrics import accuracy_score, precision_score, recall_score, f1_score\n",
        "from sklearn.decomposition import PCA\n",
        "from scipy.stats import ttest_1samp\n",
        "from statsmodels.stats.weightstats import ztest\n",
        "\n",
        "file_path = \"/content/Student_Mental_Stress_and_Coping_Mechanisms.csv\"\n",
        "df = pd.read_csv(file_path)\n",
        "\n",
        "df = df.drop(columns=[\"Student ID\"])\n",
        "\n",
        "categorical_cols = [\"Gender\", \"Counseling Attendance\", \"Stress Coping Mechanisms\",\n",
        "                    \"Family Mental Health History\", \"Medical Condition\"]\n",
        "label_encoders = {col: LabelEncoder() for col in categorical_cols}\n",
        "\n",
        "for col in categorical_cols:\n",
        "    df[col] = label_encoders[col].fit_transform(df[col])\n",
        "\n",
        "scaler = StandardScaler()\n",
        "numerical_cols = df.select_dtypes(include=[\"int64\"]).columns\n",
        "df[numerical_cols] = scaler.fit_transform(df[numerical_cols])\n",
        "\n",
        "X = df.drop(columns=[\"Mental Stress Level\"])\n",
        "y = df[\"Mental Stress Level\"]\n",
        "\n",
        "y_binary = (y > y.median()).astype(int)\n",
        "\n",
        "X_train, X_test, y_train_bin, y_test_bin = train_test_split(X, y_binary, test_size=0.2, random_state=42)\n",
        "\n",
        "log_reg = LogisticRegression()\n",
        "rf_clf = RandomForestClassifier(random_state=42)\n",
        "svm_clf = SVC()\n",
        "\n",
        "log_reg.fit(X_train, y_train_bin)\n",
        "rf_clf.fit(X_train, y_train_bin)\n",
        "svm_clf.fit(X_train, y_train_bin)\n",
        "\n",
        "y_pred_log = log_reg.predict(X_test)\n",
        "y_pred_rf = rf_clf.predict(X_test)\n",
        "y_pred_svm = svm_clf.predict(X_test)\n",
        "\n",
        "def evaluate_model(y_true, y_pred):\n",
        "    return {\n",
        "        \"Accuracy\": accuracy_score(y_true, y_pred),\n",
        "        \"Precision\": precision_score(y_true, y_pred),\n",
        "        \"Recall\": recall_score(y_true, y_pred),\n",
        "        \"F1-score\": f1_score(y_true, y_pred)\n",
        "    }\n",
        "\n",
        "log_reg_results = evaluate_model(y_test_bin, y_pred_log)\n",
        "rf_results = evaluate_model(y_test_bin, y_pred_rf)\n",
        "svm_results = evaluate_model(y_test_bin, y_pred_svm)\n",
        "\n",
        "feature_importances = pd.Series(rf_clf.feature_importances_, index=X.columns).sort_values(ascending=False)\n",
        "\n",
        "pca = PCA(n_components=0.95)\n",
        "X_pca = pca.fit_transform(X)\n",
        "\n",
        "t_stat, p_value = ttest_1samp(df[\"Mental Stress Level\"], popmean=5)\n",
        "\n",
        "df[\"Counseling Attendance\"] = (df[\"Counseling Attendance\"] > 0).astype(int)\n",
        "\n",
        "study_hours_yes = df[df[\"Counseling Attendance\"] == 1][\"Study Hours Per Week\"]\n",
        "study_hours_no = df[df[\"Counseling Attendance\"] == 0][\"Study Hours Per Week\"]\n",
        "z_stat, p_value_z = ztest(study_hours_yes, study_hours_no)\n",
        "\n",
        "results = {\n",
        "    \"Logistic Regression\": log_reg_results,\n",
        "    \"Random Forest\": rf_results,\n",
        "    \"SVM\": svm_results,\n",
        "    \"Top 3 Features\": feature_importances.head(3).to_dict(),\n",
        "    \"T-test\": {\"T-statistic\": t_stat, \"P-value\": p_value},\n",
        "    \"Z-test\": {\"Z-statistic\": z_stat, \"P-value\": p_value_z}\n",
        "}\n",
        "\n",
        "results"
      ]
    }
  ]
}